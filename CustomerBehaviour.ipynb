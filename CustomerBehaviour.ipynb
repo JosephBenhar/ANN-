{
  "cells": [
    {
      "cell_type": "markdown",
      "metadata": {
        "id": "view-in-github",
        "colab_type": "text"
      },
      "source": [
        "<a href=\"https://colab.research.google.com/github/JosephBenhar/ANN-/blob/main/CustomerBehaviour.ipynb\" target=\"_parent\"><img src=\"https://colab.research.google.com/assets/colab-badge.svg\" alt=\"Open In Colab\"/></a>"
      ]
    },
    {
      "cell_type": "code",
      "execution_count": null,
      "metadata": {
        "colab": {
          "background_save": true
        },
        "id": "rSbNqici1En2"
      },
      "outputs": [],
      "source": [
        "import pandas as pd\n",
        "import numpy as np\n",
        "import matplotlib.pyplot as plt\n",
        "from matplotlib import ticker\n",
        "import seaborn as sns\n",
        "import datetime as dt\n",
        "%matplotlib inline"
      ]
    },
    {
      "cell_type": "code",
      "execution_count": null,
      "metadata": {
        "colab": {
          "background_save": true
        },
        "id": "zshJAfB71LX3",
        "outputId": "46ca3682-7cfb-441e-dc3a-8266e508db6d"
      },
      "outputs": [
        {
          "name": "stdout",
          "output_type": "stream",
          "text": [
            "Requirement already satisfied: scikit-mdr in /usr/local/lib/python3.10/dist-packages (0.4.5)\n",
            "Requirement already satisfied: scikit-multilearn in /usr/local/lib/python3.10/dist-packages (0.2.0)\n",
            "Requirement already satisfied: numpy in /usr/local/lib/python3.10/dist-packages (from scikit-mdr) (1.23.5)\n",
            "Requirement already satisfied: scipy in /usr/local/lib/python3.10/dist-packages (from scikit-mdr) (1.11.3)\n",
            "Requirement already satisfied: scikit-learn in /usr/local/lib/python3.10/dist-packages (from scikit-mdr) (1.2.2)\n",
            "Requirement already satisfied: matplotlib in /usr/local/lib/python3.10/dist-packages (from scikit-mdr) (3.7.1)\n",
            "Requirement already satisfied: contourpy>=1.0.1 in /usr/local/lib/python3.10/dist-packages (from matplotlib->scikit-mdr) (1.2.0)\n",
            "Requirement already satisfied: cycler>=0.10 in /usr/local/lib/python3.10/dist-packages (from matplotlib->scikit-mdr) (0.12.1)\n",
            "Requirement already satisfied: fonttools>=4.22.0 in /usr/local/lib/python3.10/dist-packages (from matplotlib->scikit-mdr) (4.44.3)\n",
            "Requirement already satisfied: kiwisolver>=1.0.1 in /usr/local/lib/python3.10/dist-packages (from matplotlib->scikit-mdr) (1.4.5)\n",
            "Requirement already satisfied: packaging>=20.0 in /usr/local/lib/python3.10/dist-packages (from matplotlib->scikit-mdr) (23.2)\n",
            "Requirement already satisfied: pillow>=6.2.0 in /usr/local/lib/python3.10/dist-packages (from matplotlib->scikit-mdr) (9.4.0)\n",
            "Requirement already satisfied: pyparsing>=2.3.1 in /usr/local/lib/python3.10/dist-packages (from matplotlib->scikit-mdr) (3.1.1)\n",
            "Requirement already satisfied: python-dateutil>=2.7 in /usr/local/lib/python3.10/dist-packages (from matplotlib->scikit-mdr) (2.8.2)\n",
            "Requirement already satisfied: joblib>=1.1.1 in /usr/local/lib/python3.10/dist-packages (from scikit-learn->scikit-mdr) (1.3.2)\n",
            "Requirement already satisfied: threadpoolctl>=2.0.0 in /usr/local/lib/python3.10/dist-packages (from scikit-learn->scikit-mdr) (3.2.0)\n",
            "Requirement already satisfied: six>=1.5 in /usr/local/lib/python3.10/dist-packages (from python-dateutil>=2.7->matplotlib->scikit-mdr) (1.16.0)\n"
          ]
        }
      ],
      "source": [
        "!pip install scikit-mdr scikit-multilearn\n"
      ]
    },
    {
      "cell_type": "code",
      "execution_count": null,
      "metadata": {
        "colab": {
          "background_save": true
        },
        "id": "xdaooSL61QAd",
        "outputId": "6a4b9244-8804-49ac-898f-d21a996bfb85"
      },
      "outputs": [
        {
          "name": "stdout",
          "output_type": "stream",
          "text": [
            "Requirement already satisfied: scikit-mdr in /usr/local/lib/python3.10/dist-packages (0.4.5)\n",
            "Requirement already satisfied: numpy in /usr/local/lib/python3.10/dist-packages (from scikit-mdr) (1.23.5)\n",
            "Requirement already satisfied: scipy in /usr/local/lib/python3.10/dist-packages (from scikit-mdr) (1.11.3)\n",
            "Requirement already satisfied: scikit-learn in /usr/local/lib/python3.10/dist-packages (from scikit-mdr) (1.2.2)\n",
            "Requirement already satisfied: matplotlib in /usr/local/lib/python3.10/dist-packages (from scikit-mdr) (3.7.1)\n",
            "Requirement already satisfied: contourpy>=1.0.1 in /usr/local/lib/python3.10/dist-packages (from matplotlib->scikit-mdr) (1.2.0)\n",
            "Requirement already satisfied: cycler>=0.10 in /usr/local/lib/python3.10/dist-packages (from matplotlib->scikit-mdr) (0.12.1)\n",
            "Requirement already satisfied: fonttools>=4.22.0 in /usr/local/lib/python3.10/dist-packages (from matplotlib->scikit-mdr) (4.44.3)\n",
            "Requirement already satisfied: kiwisolver>=1.0.1 in /usr/local/lib/python3.10/dist-packages (from matplotlib->scikit-mdr) (1.4.5)\n",
            "Requirement already satisfied: packaging>=20.0 in /usr/local/lib/python3.10/dist-packages (from matplotlib->scikit-mdr) (23.2)\n",
            "Requirement already satisfied: pillow>=6.2.0 in /usr/local/lib/python3.10/dist-packages (from matplotlib->scikit-mdr) (9.4.0)\n",
            "Requirement already satisfied: pyparsing>=2.3.1 in /usr/local/lib/python3.10/dist-packages (from matplotlib->scikit-mdr) (3.1.1)\n",
            "Requirement already satisfied: python-dateutil>=2.7 in /usr/local/lib/python3.10/dist-packages (from matplotlib->scikit-mdr) (2.8.2)\n",
            "Requirement already satisfied: joblib>=1.1.1 in /usr/local/lib/python3.10/dist-packages (from scikit-learn->scikit-mdr) (1.3.2)\n",
            "Requirement already satisfied: threadpoolctl>=2.0.0 in /usr/local/lib/python3.10/dist-packages (from scikit-learn->scikit-mdr) (3.2.0)\n",
            "Requirement already satisfied: six>=1.5 in /usr/local/lib/python3.10/dist-packages (from python-dateutil>=2.7->matplotlib->scikit-mdr) (1.16.0)\n"
          ]
        }
      ],
      "source": [
        "!pip install scikit-mdr"
      ]
    },
    {
      "cell_type": "code",
      "execution_count": null,
      "metadata": {
        "colab": {
          "background_save": true
        },
        "id": "0REugTeX1Tih"
      },
      "outputs": [],
      "source": [
        "# importing necessary Python libraries\n",
        "import pandas as pd\n",
        "import numpy as np\n",
        "import matplotlib.pyplot as plt\n",
        "import seaborn as sns\n",
        "\n",
        "import plotly.express as px\n",
        "#import plotly.offline as pyoff\n",
        "import plotly.graph_objs as go\n",
        "#import plotly.figure_factory as ff\n",
        "\n",
        "# avoid displaying warnings\n",
        "import warnings\n",
        "warnings.filterwarnings(\"ignore\")\n",
        "\n",
        "#import machine learning related libraries\n",
        "from sklearn.svm import SVC\n",
        "from sklearn.multioutput import MultiOutputClassifier\n",
        "from sklearn.ensemble import GradientBoostingClassifier\n",
        "from sklearn.tree import DecisionTreeClassifier\n",
        "from sklearn.neighbors import KNeighborsClassifier\n",
        "from sklearn.naive_bayes import GaussianNB\n",
        "from sklearn.ensemble import RandomForestClassifier\n",
        "from sklearn.linear_model import LogisticRegression\n",
        "from sklearn.model_selection import KFold, cross_val_score, train_test_split, GridSearchCV, cross_validate\n",
        "from sklearn.metrics import accuracy_score, f1_score, precision_score, recall_score, confusion_matrix\n",
        "from sklearn.cluster import KMeans\n",
        "import xgboost as xgb\n",
        "import time\n"
      ]
    },
    {
      "cell_type": "code",
      "execution_count": null,
      "metadata": {
        "id": "WaZwFy0j1YNO"
      },
      "outputs": [],
      "source": [
        "from google.colab import drive\n",
        "drive.mount('/content/drive')"
      ]
    },
    {
      "cell_type": "code",
      "execution_count": null,
      "metadata": {
        "id": "jfDd4Z7d1fFh"
      },
      "outputs": [],
      "source": [
        "data = pd.read_csv(\"/content/drive/MyDrive/Consumer behaviour.zip\",encoding='ISO-8859-1')\n",
        "df = data.copy()\n",
        "df.head()"
      ]
    },
    {
      "cell_type": "code",
      "execution_count": null,
      "metadata": {
        "id": "ytE1_v9O1qdd"
      },
      "outputs": [],
      "source": [
        "df.info()"
      ]
    },
    {
      "cell_type": "code",
      "execution_count": null,
      "metadata": {
        "id": "-7QTZz8r1yN6"
      },
      "outputs": [],
      "source": [
        "# Check null values\n",
        "df.isna().sum()"
      ]
    },
    {
      "cell_type": "code",
      "execution_count": null,
      "metadata": {
        "id": "_cWBiD9_12n3"
      },
      "outputs": [],
      "source": [
        "# drop null values\n",
        "df.dropna(inplace=True)\n",
        "df.isna().sum()"
      ]
    },
    {
      "cell_type": "code",
      "execution_count": null,
      "metadata": {
        "id": "UKGfGQJb15_2"
      },
      "outputs": [],
      "source": [
        "# check duplicates\n",
        "df[df.duplicated()].shape"
      ]
    },
    {
      "cell_type": "code",
      "execution_count": null,
      "metadata": {
        "id": "gkyJKYf91-Ao"
      },
      "outputs": [],
      "source": [
        "# Drop duplicated data\n",
        "df = df.drop_duplicates(keep='first')\n",
        "df.shape"
      ]
    },
    {
      "cell_type": "code",
      "execution_count": null,
      "metadata": {
        "id": "VYUqAiah2DBr"
      },
      "outputs": [],
      "source": [
        "# check invoice that contains 'C' which means cancelled\n",
        "df[df['InvoiceNo'].str.contains('C')]"
      ]
    },
    {
      "cell_type": "code",
      "execution_count": null,
      "metadata": {
        "id": "9pjYFoRV2QQE"
      },
      "outputs": [],
      "source": [
        "# Drop data contains \"C\" in Invoice\n",
        "df = df[~df['InvoiceNo'].str.contains('C')]\n",
        "df.shape"
      ]
    },
    {
      "cell_type": "code",
      "execution_count": null,
      "metadata": {
        "id": "CkH7WPS42Zia"
      },
      "outputs": [],
      "source": [
        "# Convert 'Quantity' column to float and assign it back to the DataFrame\n",
        "df['Quantity'] = df['Quantity'].astype('float')\n",
        "\n",
        "# Change 'InvoiceDate' dtype to datetime\n",
        "df['InvoiceDate'] = pd.to_datetime(df['InvoiceDate'])\n",
        "\n",
        "# Checking the datatypes after conversion\n",
        "df.info()"
      ]
    },
    {
      "cell_type": "code",
      "execution_count": null,
      "metadata": {
        "id": "GfBpjX0a2nUY"
      },
      "outputs": [],
      "source": [
        "# Create the 'Revenue' column based on the product of 'Quantity' and 'UnitPrice'\n",
        "df['Revenue'] = df['Quantity'] * df['UnitPrice']\n",
        "\n",
        "# Display the DataFrame with the newly added 'Revenue' column\n",
        "print(df.head())"
      ]
    },
    {
      "cell_type": "code",
      "execution_count": null,
      "metadata": {
        "id": "j6GHtHeU3F4g"
      },
      "outputs": [],
      "source": [
        "# Checcking the statsitic of numeric features\n",
        "df[['Quantity', 'UnitPrice', 'Revenue']].describe().T"
      ]
    },
    {
      "cell_type": "code",
      "execution_count": null,
      "metadata": {
        "id": "F4WUQStw3NH3"
      },
      "outputs": [],
      "source": [
        "# checking the price column which has a value of 0\n",
        "df[df['UnitPrice']==0]"
      ]
    },
    {
      "cell_type": "code",
      "execution_count": null,
      "metadata": {
        "id": "aVqsSN_43XRi"
      },
      "outputs": [],
      "source": [
        "# Remove rows that Price have 0 value from the dataset\n",
        "df = df[df['UnitPrice']>0]\n",
        "df.shape"
      ]
    },
    {
      "cell_type": "code",
      "execution_count": null,
      "metadata": {
        "id": "T8TyP6zd3afj"
      },
      "outputs": [],
      "source": [
        "df.head()"
      ]
    },
    {
      "cell_type": "code",
      "execution_count": null,
      "metadata": {
        "id": "E5y9GU0R3d4d"
      },
      "outputs": [],
      "source": [
        "# checking total order in dataset\n",
        "df['InvoiceNo'].nunique()"
      ]
    },
    {
      "cell_type": "code",
      "execution_count": null,
      "metadata": {
        "id": "-d9jD4k73jAp"
      },
      "outputs": [],
      "source": [
        "# checking number of customers\n",
        "df['CustomerID'].nunique()"
      ]
    },
    {
      "cell_type": "code",
      "execution_count": null,
      "metadata": {
        "id": "0UYCU9Qk3nuB"
      },
      "outputs": [],
      "source": [
        "# Checking the number of Quantity sold\n",
        "df['Quantity'].sum()"
      ]
    },
    {
      "cell_type": "code",
      "execution_count": null,
      "metadata": {
        "id": "6ZT8rprb3sUT"
      },
      "outputs": [],
      "source": [
        "# 20 Customer with the most Quantity Purchases\n",
        "plt.style.use('dark_background')\n",
        "df.groupby('CustomerID')['Quantity'].sum().sort_values(ascending=False).head(20).plot(kind='bar', color='Blue', figsize=(10,5))\n",
        "plt.xlabel('CustomerID')\n",
        "plt.ylabel('Quantity')\n",
        "plt.title('20 Customer with the most Quantity Purchases', fontweight='bold')\n",
        "plt.xticks(rotation=45)\n",
        "plt.show()"
      ]
    },
    {
      "cell_type": "code",
      "execution_count": null,
      "metadata": {
        "id": "Q9Iz25yt3yCu"
      },
      "outputs": [],
      "source": [
        "# 20 Customer who generate the most Revenue\n",
        "df.groupby('CustomerID')['Revenue'].sum().sort_values(ascending=False).head(20).plot(kind='bar', color='#4f5dff', figsize=(10,5))\n",
        "plt.xlabel('CustomerID')\n",
        "plt.ylabel('Revenue')\n",
        "plt.title('20 Customer who generate the most Revenue', fontweight='bold')\n",
        "plt.xticks(rotation=45)\n",
        "plt.show()"
      ]
    },
    {
      "cell_type": "code",
      "execution_count": null,
      "metadata": {
        "colab": {
          "background_save": true
        },
        "id": "8nNk6exo32a_",
        "outputId": "ea3f8a7a-94c6-4571-dd00-a2b2fc0354c7"
      },
      "outputs": [
        {
          "data": {
            "image/png": "[encoded data removed]",
            "text/plain": [
              "<Figure size 1600x600 with 1 Axes>"
            ]
          },
          "metadata": {},
          "output_type": "display_data"
        }
      ],
      "source": [
        "# Revenue per month and year\n",
        "monthly_revenue = df.groupby([df['InvoiceDate'].dt.year, df['InvoiceDate'].dt.month])['Revenue'].sum()\n",
        "\n",
        "# Create a line plot of monthly revenue\n",
        "ax = monthly_revenue.plot(kind='line', figsize=(16,6), color='Blue', linewidth=3)\n",
        "\n",
        "# Set xticks and xticklabels to show all values\n",
        "ax.set_xticks(range(len(monthly_revenue.index)))\n",
        "ax.set_xticklabels(['{}-{}'.format(year, month) for year, month in monthly_revenue.index], rotation=45)\n",
        "\n",
        "# Set ylabel format\n",
        "fmt = '{x:,.0f}'\n",
        "tick = ticker.StrMethodFormatter(fmt)\n",
        "ax.yaxis.set_major_formatter(tick)\n",
        "\n",
        "# set title and label\n",
        "plt.xlabel('Invoice Date')\n",
        "plt.ylabel('Revenue')\n",
        "plt.title('Revenue Earned by Month and Year', fontweight='bold')\n",
        "\n",
        "# Show the plot\n",
        "plt.show()"
      ]
    },
    {
      "cell_type": "code",
      "execution_count": null,
      "metadata": {
        "id": "2SEMk9UB4BBn"
      },
      "outputs": [],
      "source": [
        "# Checking The Correlation\n",
        "df[['Quantity','UnitPrice','Revenue']].corr()"
      ]
    },
    {
      "cell_type": "code",
      "execution_count": null,
      "metadata": {
        "id": "Guqnrv7y4HuH"
      },
      "outputs": [],
      "source": [
        "# Visualizing Correlation\n",
        "sns.heatmap(df[['Quantity','UnitPrice','Revenue']].corr(), annot=True, cmap='vlag')\n",
        "plt.title('Quantity vs Price vs Revenue')\n",
        "plt.show()"
      ]
    },
    {
      "cell_type": "code",
      "execution_count": null,
      "metadata": {
        "id": "RS4Ls_xN4Nnk"
      },
      "outputs": [],
      "source": [
        "df1 = df.drop(['StockCode','Description','Country'], axis=1)\n",
        "df1.head()"
      ]
    },
    {
      "cell_type": "code",
      "execution_count": null,
      "metadata": {
        "id": "dkrqtp9Z4UXG"
      },
      "outputs": [],
      "source": [
        "df1['InvoiceDate'].max()"
      ]
    },
    {
      "cell_type": "code",
      "execution_count": null,
      "metadata": {
        "id": "4gI51Hyb4YXl"
      },
      "outputs": [],
      "source": [
        "max_date = df1['InvoiceDate'].max()\n",
        "cutoff_timedelta = dt.timedelta(days=90)\n",
        "cutoff_date = max_date - cutoff_timedelta"
      ]
    },
    {
      "cell_type": "code",
      "execution_count": null,
      "metadata": {
        "id": "Cgf3KFrB4b1v"
      },
      "outputs": [],
      "source": [
        "cutoff_date"
      ]
    },
    {
      "cell_type": "code",
      "execution_count": null,
      "metadata": {
        "id": "XQ1sU2nd4g-L"
      },
      "outputs": [],
      "source": [
        "before_cutoff = df1[df1['InvoiceDate'] <= cutoff_date]\n",
        "after_cutoff = df1[df1['InvoiceDate'] > cutoff_date]"
      ]
    },
    {
      "cell_type": "code",
      "execution_count": null,
      "metadata": {
        "id": "scyUHukS4iJQ"
      },
      "outputs": [],
      "source": [
        "targets = after_cutoff.groupby('CustomerID').sum().rename({'Revenue' : 'total_spend_90'}, axis=1).assign(spend_90 = 1)\n",
        "targets.drop(['Quantity','UnitPrice'], axis=1, inplace=True)\n",
        "targets.head()"
      ]
    },
    {
      "cell_type": "code",
      "execution_count": null,
      "metadata": {
        "id": "6wbhvSxI4qCP"
      },
      "outputs": [],
      "source": [
        "targets.shape"
      ]
    },
    {
      "cell_type": "code",
      "execution_count": null,
      "metadata": {
        "id": "KE06pKgi4rkv"
      },
      "outputs": [],
      "source": [
        "# create analysis date\n",
        "analysis_date = df['InvoiceDate'].max() + dt.timedelta(days=1)"
      ]
    },
    {
      "cell_type": "code",
      "execution_count": null,
      "metadata": {
        "id": "Ecv6Iqj54uuC"
      },
      "outputs": [],
      "source": [
        "features = before_cutoff.groupby('CustomerID').agg({'InvoiceDate': lambda InvoiceDate: (analysis_date-InvoiceDate.max()).days,#recency\n",
        "                              'InvoiceNo': lambda Invoice: Invoice.nunique(),#frequency\n",
        "                              'Revenue': lambda Revenue: Revenue.sum()#Monetary\n",
        "                              })"
      ]
    },
    {
      "cell_type": "code",
      "execution_count": null,
      "metadata": {
        "id": "Zoy0TAS5439d"
      },
      "outputs": [],
      "source": [
        "features.columns = ['recency', 'frequency', 'monetary']"
      ]
    },
    {
      "cell_type": "code",
      "execution_count": null,
      "metadata": {
        "id": "vXxNAVsO49RK"
      },
      "outputs": [],
      "source": [
        "features"
      ]
    },
    {
      "cell_type": "code",
      "execution_count": null,
      "metadata": {
        "id": "zBjRtY4Y5An3"
      },
      "outputs": [],
      "source": [
        "# Merge features and targets dataframe\n",
        "features_df = pd.merge(features, targets, how='left', on='CustomerID').fillna(0)\n",
        "features_df"
      ]
    },
    {
      "cell_type": "code",
      "execution_count": null,
      "metadata": {
        "id": "09tCTQBc5GWz"
      },
      "outputs": [],
      "source": [
        "from sklearn.pipeline import make_pipeline\n",
        "from sklearn.ensemble import RandomForestRegressor, GradientBoostingRegressor\n",
        "from xgboost import XGBRegressor\n",
        "from sklearn.model_selection import GridSearchCV\n",
        "from sklearn.exceptions import NotFittedError\n",
        "from sklearn.metrics import r2_score, mean_absolute_error"
      ]
    },
    {
      "cell_type": "code",
      "execution_count": null,
      "metadata": {
        "id": "-oH_xKjZ5Khh"
      },
      "outputs": [],
      "source": [
        "X = features_df.drop(['total_spend_90','spend_90'], axis=1)\n",
        "X"
      ]
    },
    {
      "cell_type": "code",
      "execution_count": null,
      "metadata": {
        "id": "ufvITz715N1r"
      },
      "outputs": [],
      "source": [
        "y_spend = features_df[['total_spend_90']]\n",
        "y_spend = y_spend.to_numpy().reshape(-1)\n",
        "y_spend"
      ]
    },
    {
      "cell_type": "code",
      "execution_count": null,
      "metadata": {
        "id": "wnDMKHis5RPf"
      },
      "outputs": [],
      "source": [
        "from sklearn.pipeline import make_pipeline\n",
        "from sklearn.ensemble import RandomForestRegressor, GradientBoostingRegressor\n",
        "from sklearn.tree import DecisionTreeRegressor\n",
        "from xgboost import XGBRegressor\n",
        "from sklearn.svm import SVR\n",
        "from sklearn.neighbors import KNeighborsRegressor\n",
        "\n",
        "# Define pipelines for different models\n",
        "pipelines = {\n",
        "    'rf': make_pipeline(RandomForestRegressor(random_state=42)),\n",
        "    'gb': make_pipeline(GradientBoostingRegressor(random_state=42)),\n",
        "    'dt': make_pipeline(DecisionTreeRegressor(random_state=42)),\n",
        "    'xgb': make_pipeline(XGBRegressor(random_state=42)),\n",
        "    'svm': make_pipeline(SVR()),\n",
        "    'knn': make_pipeline(KNeighborsRegressor())\n",
        "}\n",
        "\n",
        "# You may adjust the hyperparameters or preprocessing steps inside each pipeline as needed"
      ]
    },
    {
      "cell_type": "code",
      "execution_count": null,
      "metadata": {
        "id": "vdK5OZif5UWl"
      },
      "outputs": [],
      "source": [
        "hypergrid = {\n",
        "    'rf': {\n",
        "        'randomforestregressor__min_samples_split': [2, 4, 6],\n",
        "        'randomforestregressor__min_samples_leaf': [1, 2, 3]\n",
        "    },\n",
        "    'gb': {\n",
        "        'gradientboostingregressor__alpha': [0.001, 0.005, 0.01, 0.05, 0.1, 0.5, 0.99]\n",
        "    },\n",
        "    'dt': {\n",
        "        'decisiontreeregressor__min_samples_split': [2, 4, 6],\n",
        "        'decisiontreeregressor__min_samples_leaf': [1, 2, 3]\n",
        "    },\n",
        "    'xgb': {\n",
        "        'xgbregressor__alpha': [0.001, 0.005, 0.01, 0.05, 0.1, 0.5, 0.99]\n",
        "        # Add other XGBoost hyperparameters as needed\n",
        "    },\n",
        "    'svm': {\n",
        "        'svr__C': [0.1, 1, 10],\n",
        "        'svr__gamma': [0.001, 0.01, 0.1, 1]\n",
        "    },\n",
        "    'knn': {\n",
        "        'kneighborsregressor__n_neighbors': [3, 5, 7],\n",
        "        'kneighborsregressor__weights': ['uniform', 'distance']\n",
        "    }\n",
        "}\n"
      ]
    },
    {
      "cell_type": "code",
      "execution_count": null,
      "metadata": {
        "colab": {
          "base_uri": "https://localhost:8080/"
        },
        "id": "HT5lASDR5oQj",
        "outputId": "108ecdc8-b5f4-4fb6-d1e2-61f07b864a32"
      },
      "outputs": [
        {
          "name": "stdout",
          "output_type": "stream",
          "text": [
            "Starting training for rf.\n",
            "rf has been successfully fit.\n",
            "Starting training for gb.\n",
            "gb has been successfully fit.\n",
            "Starting training for dt.\n",
            "dt has been successfully fit.\n",
            "Starting training for xgb.\n",
            "xgb has been successfully fit.\n",
            "Starting training for svm.\n",
            "svm has been successfully fit.\n",
            "Starting training for knn.\n",
            "knn has been successfully fit.\n"
          ]
        }
      ],
      "source": [
        "fit_models = {}\n",
        "for algo, pipeline in pipelines.items():\n",
        "    model = GridSearchCV(pipeline, hypergrid[algo], cv=5, n_jobs=-1)\n",
        "    try:\n",
        "        print('Starting training for {}.'.format(algo))\n",
        "        model.fit(X, y_spend)\n",
        "        fit_models[algo] = model\n",
        "        print('{} has been successfully fit.'.format(algo))\n",
        "    except NotFittedError as e:\n",
        "        print(repr(e))"
      ]
    },
    {
      "cell_type": "code",
      "execution_count": null,
      "metadata": {
        "colab": {
          "base_uri": "https://localhost:8080/"
        },
        "id": "3hlKmaF06E7V",
        "outputId": "6c3eec88-8e80-4a8e-97f8-5c2c163d2a8b"
      },
      "outputs": [
        {
          "name": "stdout",
          "output_type": "stream",
          "text": [
            "rf scores - R2:0.7968917154756514 MAE:388.4814128355638\n",
            "gb scores - R2:0.9673363279269482 MAE:437.3379477149177\n",
            "dt scores - R2:0.6117173878333446 MAE:448.6949951038576\n",
            "xgb scores - R2:0.953500711319969 MAE:263.311461321718\n",
            "svm scores - R2:-0.013295290626516909 MAE:793.9639511012513\n",
            "knn scores - R2:0.4902110369305869 MAE:610.1449418397626\n"
          ]
        }
      ],
      "source": [
        "for algo,model in fit_models.items():\n",
        "    yhat = model.predict(X)\n",
        "    print('{} scores - R2:{} MAE:{}'.format(algo, r2_score(y_spend, yhat), mean_absolute_error(y_spend, yhat)))"
      ]
    },
    {
      "cell_type": "code",
      "execution_count": null,
      "metadata": {
        "colab": {
          "base_uri": "https://localhost:8080/"
        },
        "id": "2sxHPH_f6NAN",
        "outputId": "f6c5aa40-42ba-4d58-da3f-db700533ddad"
      },
      "outputs": [
        {
          "data": {
            "text/plain": [
              "array([ 880.68081444, 1093.04021854,  627.48518082, ...,  126.48232663,\n",
              "        608.50454051,  385.04510929])"
            ]
          },
          "execution_count": 124,
          "metadata": {},
          "output_type": "execute_result"
        }
      ],
      "source": [
        "prediction_reg = fit_models['gb'].predict(X)\n",
        "prediction_reg"
      ]
    },
    {
      "cell_type": "code",
      "execution_count": null,
      "metadata": {
        "colab": {
          "base_uri": "https://localhost:8080/",
          "height": 206
        },
        "id": "SWoYKbLd6UHP",
        "outputId": "4c96ade9-cae7-4c04-fd11-078f9c412d4d"
      },
      "outputs": [
        {
          "data": {
            "text/html": [
              "\n",
              "  <div id=\"df-faca9106-fc9c-4db7-83e2-a96e71b720c8\" class=\"colab-df-container\">\n",
              "    <div>\n",
              "<style scoped>\n",
              "    .dataframe tbody tr th:only-of-type {\n",
              "        vertical-align: middle;\n",
              "    }\n",
              "\n",
              "    .dataframe tbody tr th {\n",
              "        vertical-align: top;\n",
              "    }\n",
              "\n",
              "    .dataframe thead th {\n",
              "        text-align: right;\n",
              "    }\n",
              "</style>\n",
              "<table border=\"1\" class=\"dataframe\">\n",
              "  <thead>\n",
              "    <tr style=\"text-align: right;\">\n",
              "      <th></th>\n",
              "      <th>prediction_spend</th>\n",
              "    </tr>\n",
              "  </thead>\n",
              "  <tbody>\n",
              "    <tr>\n",
              "      <th>0</th>\n",
              "      <td>880.680814</td>\n",
              "    </tr>\n",
              "    <tr>\n",
              "      <th>1</th>\n",
              "      <td>1093.040219</td>\n",
              "    </tr>\n",
              "    <tr>\n",
              "      <th>2</th>\n",
              "      <td>627.485181</td>\n",
              "    </tr>\n",
              "    <tr>\n",
              "      <th>3</th>\n",
              "      <td>215.185733</td>\n",
              "    </tr>\n",
              "    <tr>\n",
              "      <th>4</th>\n",
              "      <td>749.430936</td>\n",
              "    </tr>\n",
              "  </tbody>\n",
              "</table>\n",
              "</div>\n",
              "    <div class=\"colab-df-buttons\">\n",
              "\n",
              "  <div class=\"colab-df-container\">\n",
              "    <button class=\"colab-df-convert\" onclick=\"convertToInteractive('df-faca9106-fc9c-4db7-83e2-a96e71b720c8')\"\n",
              "            title=\"Convert this dataframe to an interactive table.\"\n",
              "            style=\"display:none;\">\n",
              "\n",
              "  <svg xmlns=\"http://www.w3.org/2000/svg\" height=\"24px\" viewBox=\"0 -960 960 960\">\n",
              "    <path d=\"M120-120v-720h720v720H120Zm60-500h600v-160H180v160Zm220 220h160v-160H400v160Zm0 220h160v-160H400v160ZM180-400h160v-160H180v160Zm440 0h160v-160H620v160ZM180-180h160v-160H180v160Zm440 0h160v-160H620v160Z\"/>\n",
              "  </svg>\n",
              "    </button>\n",
              "\n",
              "  <style>\n",
              "    .colab-df-container {\n",
              "      display:flex;\n",
              "      gap: 12px;\n",
              "    }\n",
              "\n",
              "    .colab-df-convert {\n",
              "      background-color: #E8F0FE;\n",
              "      border: none;\n",
              "      border-radius: 50%;\n",
              "      cursor: pointer;\n",
              "      display: none;\n",
              "      fill: #1967D2;\n",
              "      height: 32px;\n",
              "      padding: 0 0 0 0;\n",
              "      width: 32px;\n",
              "    }\n",
              "\n",
              "    .colab-df-convert:hover {\n",
              "      background-color: #E2EBFA;\n",
              "      box-shadow: 0px 1px 2px rgba(60, 64, 67, 0.3), 0px 1px 3px 1px rgba(60, 64, 67, 0.15);\n",
              "      fill: #174EA6;\n",
              "    }\n",
              "\n",
              "    .colab-df-buttons div {\n",
              "      margin-bottom: 4px;\n",
              "    }\n",
              "\n",
              "    [theme=dark] .colab-df-convert {\n",
              "      background-color: #3B4455;\n",
              "      fill: #D2E3FC;\n",
              "    }\n",
              "\n",
              "    [theme=dark] .colab-df-convert:hover {\n",
              "      background-color: #434B5C;\n",
              "      box-shadow: 0px 1px 3px 1px rgba(0, 0, 0, 0.15);\n",
              "      filter: drop-shadow(0px 1px 2px rgba(0, 0, 0, 0.3));\n",
              "      fill: #FFFFFF;\n",
              "    }\n",
              "  </style>\n",
              "\n",
              "    <script>\n",
              "      const buttonEl =\n",
              "        document.querySelector('#df-faca9106-fc9c-4db7-83e2-a96e71b720c8 button.colab-df-convert');\n",
              "      buttonEl.style.display =\n",
              "        google.colab.kernel.accessAllowed ? 'block' : 'none';\n",
              "\n",
              "      async function convertToInteractive(key) {\n",
              "        const element = document.querySelector('#df-faca9106-fc9c-4db7-83e2-a96e71b720c8');\n",
              "        const dataTable =\n",
              "          await google.colab.kernel.invokeFunction('convertToInteractive',\n",
              "                                                    [key], {});\n",
              "        if (!dataTable) return;\n",
              "\n",
              "        const docLinkHtml = 'Like what you see? Visit the ' +\n",
              "          '<a target=\"_blank\" href=https://colab.research.google.com/notebooks/data_table.ipynb>data table notebook</a>'\n",
              "          + ' to learn more about interactive tables.';\n",
              "        element.innerHTML = '';\n",
              "        dataTable['output_type'] = 'display_data';\n",
              "        await google.colab.output.renderOutput(dataTable, element);\n",
              "        const docLink = document.createElement('div');\n",
              "        docLink.innerHTML = docLinkHtml;\n",
              "        element.appendChild(docLink);\n",
              "      }\n",
              "    </script>\n",
              "  </div>\n",
              "\n",
              "\n",
              "<div id=\"df-b20d1a97-8fbf-4a43-85c5-3c38dfd8d383\">\n",
              "  <button class=\"colab-df-quickchart\" onclick=\"quickchart('df-b20d1a97-8fbf-4a43-85c5-3c38dfd8d383')\"\n",
              "            title=\"Suggest charts\"\n",
              "            style=\"display:none;\">\n",
              "\n",
              "<svg xmlns=\"http://www.w3.org/2000/svg\" height=\"24px\"viewBox=\"0 0 24 24\"\n",
              "     width=\"24px\">\n",
              "    <g>\n",
              "        <path d=\"M19 3H5c-1.1 0-2 .9-2 2v14c0 1.1.9 2 2 2h14c1.1 0 2-.9 2-2V5c0-1.1-.9-2-2-2zM9 17H7v-7h2v7zm4 0h-2V7h2v10zm4 0h-2v-4h2v4z\"/>\n",
              "    </g>\n",
              "</svg>\n",
              "  </button>\n",
              "\n",
              "<style>\n",
              "  .colab-df-quickchart {\n",
              "      --bg-color: #E8F0FE;\n",
              "      --fill-color: #1967D2;\n",
              "      --hover-bg-color: #E2EBFA;\n",
              "      --hover-fill-color: #174EA6;\n",
              "      --disabled-fill-color: #AAA;\n",
              "      --disabled-bg-color: #DDD;\n",
              "  }\n",
              "\n",
              "  [theme=dark] .colab-df-quickchart {\n",
              "      --bg-color: #3B4455;\n",
              "      --fill-color: #D2E3FC;\n",
              "      --hover-bg-color: #434B5C;\n",
              "      --hover-fill-color: #FFFFFF;\n",
              "      --disabled-bg-color: #3B4455;\n",
              "      --disabled-fill-color: #666;\n",
              "  }\n",
              "\n",
              "  .colab-df-quickchart {\n",
              "    background-color: var(--bg-color);\n",
              "    border: none;\n",
              "    border-radius: 50%;\n",
              "    cursor: pointer;\n",
              "    display: none;\n",
              "    fill: var(--fill-color);\n",
              "    height: 32px;\n",
              "    padding: 0;\n",
              "    width: 32px;\n",
              "  }\n",
              "\n",
              "  .colab-df-quickchart:hover {\n",
              "    background-color: var(--hover-bg-color);\n",
              "    box-shadow: 0 1px 2px rgba(60, 64, 67, 0.3), 0 1px 3px 1px rgba(60, 64, 67, 0.15);\n",
              "    fill: var(--button-hover-fill-color);\n",
              "  }\n",
              "\n",
              "  .colab-df-quickchart-complete:disabled,\n",
              "  .colab-df-quickchart-complete:disabled:hover {\n",
              "    background-color: var(--disabled-bg-color);\n",
              "    fill: var(--disabled-fill-color);\n",
              "    box-shadow: none;\n",
              "  }\n",
              "\n",
              "  .colab-df-spinner {\n",
              "    border: 2px solid var(--fill-color);\n",
              "    border-color: transparent;\n",
              "    border-bottom-color: var(--fill-color);\n",
              "    animation:\n",
              "      spin 1s steps(1) infinite;\n",
              "  }\n",
              "\n",
              "  @keyframes spin {\n",
              "    0% {\n",
              "      border-color: transparent;\n",
              "      border-bottom-color: var(--fill-color);\n",
              "      border-left-color: var(--fill-color);\n",
              "    }\n",
              "    20% {\n",
              "      border-color: transparent;\n",
              "      border-left-color: var(--fill-color);\n",
              "      border-top-color: var(--fill-color);\n",
              "    }\n",
              "    30% {\n",
              "      border-color: transparent;\n",
              "      border-left-color: var(--fill-color);\n",
              "      border-top-color: var(--fill-color);\n",
              "      border-right-color: var(--fill-color);\n",
              "    }\n",
              "    40% {\n",
              "      border-color: transparent;\n",
              "      border-right-color: var(--fill-color);\n",
              "      border-top-color: var(--fill-color);\n",
              "    }\n",
              "    60% {\n",
              "      border-color: transparent;\n",
              "      border-right-color: var(--fill-color);\n",
              "    }\n",
              "    80% {\n",
              "      border-color: transparent;\n",
              "      border-right-color: var(--fill-color);\n",
              "      border-bottom-color: var(--fill-color);\n",
              "    }\n",
              "    90% {\n",
              "      border-color: transparent;\n",
              "      border-bottom-color: var(--fill-color);\n",
              "    }\n",
              "  }\n",
              "</style>\n",
              "\n",
              "  <script>\n",
              "    async function quickchart(key) {\n",
              "      const quickchartButtonEl =\n",
              "        document.querySelector('#' + key + ' button');\n",
              "      quickchartButtonEl.disabled = true;  // To prevent multiple clicks.\n",
              "      quickchartButtonEl.classList.add('colab-df-spinner');\n",
              "      try {\n",
              "        const charts = await google.colab.kernel.invokeFunction(\n",
              "            'suggestCharts', [key], {});\n",
              "      } catch (error) {\n",
              "        console.error('Error during call to suggestCharts:', error);\n",
              "      }\n",
              "      quickchartButtonEl.classList.remove('colab-df-spinner');\n",
              "      quickchartButtonEl.classList.add('colab-df-quickchart-complete');\n",
              "    }\n",
              "    (() => {\n",
              "      let quickchartButtonEl =\n",
              "        document.querySelector('#df-b20d1a97-8fbf-4a43-85c5-3c38dfd8d383 button');\n",
              "      quickchartButtonEl.style.display =\n",
              "        google.colab.kernel.accessAllowed ? 'block' : 'none';\n",
              "    })();\n",
              "  </script>\n",
              "</div>\n",
              "    </div>\n",
              "  </div>\n"
            ],
            "text/plain": [
              "   prediction_spend\n",
              "0        880.680814\n",
              "1       1093.040219\n",
              "2        627.485181\n",
              "3        215.185733\n",
              "4        749.430936"
            ]
          },
          "execution_count": 125,
          "metadata": {},
          "output_type": "execute_result"
        }
      ],
      "source": [
        "pred_reg_df = pd.DataFrame(prediction_reg, columns=['prediction_spend'])\n",
        "pred_reg_df.head()"
      ]
    },
    {
      "cell_type": "code",
      "execution_count": null,
      "metadata": {
        "id": "rlylJ2Pg6X2U"
      },
      "outputs": [],
      "source": [
        "from sklearn.pipeline import Pipeline\n",
        "from sklearn.ensemble import RandomForestClassifier, GradientBoostingClassifier\n",
        "from xgboost import XGBClassifier\n",
        "from sklearn.metrics import accuracy_score"
      ]
    },
    {
      "cell_type": "code",
      "execution_count": null,
      "metadata": {
        "colab": {
          "base_uri": "https://localhost:8080/"
        },
        "id": "YHrZBaF16cIC",
        "outputId": "15543d81-f766-4050-e28e-734b69f3d9c0"
      },
      "outputs": [
        {
          "data": {
            "text/plain": [
              "array([0., 1., 1., ..., 1., 1., 1.])"
            ]
          },
          "execution_count": 127,
          "metadata": {},
          "output_type": "execute_result"
        }
      ],
      "source": [
        "y_prob = features_df[['spend_90']]\n",
        "y_prob = y_prob.to_numpy().reshape(-1)\n",
        "y_prob"
      ]
    },
    {
      "cell_type": "code",
      "execution_count": null,
      "metadata": {
        "colab": {
          "base_uri": "https://localhost:8080/",
          "height": 237
        },
        "id": "4OonZ73H6fIg",
        "outputId": "798d548c-0ebf-4b6b-f341-a03454b54217"
      },
      "outputs": [
        {
          "data": {
            "text/html": [
              "\n",
              "  <div id=\"df-9df015f8-39a1-492f-b3a1-90923922aa83\" class=\"colab-df-container\">\n",
              "    <div>\n",
              "<style scoped>\n",
              "    .dataframe tbody tr th:only-of-type {\n",
              "        vertical-align: middle;\n",
              "    }\n",
              "\n",
              "    .dataframe tbody tr th {\n",
              "        vertical-align: top;\n",
              "    }\n",
              "\n",
              "    .dataframe thead th {\n",
              "        text-align: right;\n",
              "    }\n",
              "</style>\n",
              "<table border=\"1\" class=\"dataframe\">\n",
              "  <thead>\n",
              "    <tr style=\"text-align: right;\">\n",
              "      <th></th>\n",
              "      <th>recency</th>\n",
              "      <th>frequency</th>\n",
              "      <th>monetary</th>\n",
              "    </tr>\n",
              "    <tr>\n",
              "      <th>CustomerID</th>\n",
              "      <th></th>\n",
              "      <th></th>\n",
              "      <th></th>\n",
              "    </tr>\n",
              "  </thead>\n",
              "  <tbody>\n",
              "    <tr>\n",
              "      <th>12346.0</th>\n",
              "      <td>326</td>\n",
              "      <td>1</td>\n",
              "      <td>77183.60</td>\n",
              "    </tr>\n",
              "    <tr>\n",
              "      <th>12347.0</th>\n",
              "      <td>130</td>\n",
              "      <td>5</td>\n",
              "      <td>2790.86</td>\n",
              "    </tr>\n",
              "    <tr>\n",
              "      <th>12348.0</th>\n",
              "      <td>249</td>\n",
              "      <td>3</td>\n",
              "      <td>1487.24</td>\n",
              "    </tr>\n",
              "    <tr>\n",
              "      <th>12350.0</th>\n",
              "      <td>310</td>\n",
              "      <td>1</td>\n",
              "      <td>334.40</td>\n",
              "    </tr>\n",
              "    <tr>\n",
              "      <th>12352.0</th>\n",
              "      <td>262</td>\n",
              "      <td>5</td>\n",
              "      <td>1561.81</td>\n",
              "    </tr>\n",
              "  </tbody>\n",
              "</table>\n",
              "</div>\n",
              "    <div class=\"colab-df-buttons\">\n",
              "\n",
              "  <div class=\"colab-df-container\">\n",
              "    <button class=\"colab-df-convert\" onclick=\"convertToInteractive('df-9df015f8-39a1-492f-b3a1-90923922aa83')\"\n",
              "            title=\"Convert this dataframe to an interactive table.\"\n",
              "            style=\"display:none;\">\n",
              "\n",
              "  <svg xmlns=\"http://www.w3.org/2000/svg\" height=\"24px\" viewBox=\"0 -960 960 960\">\n",
              "    <path d=\"M120-120v-720h720v720H120Zm60-500h600v-160H180v160Zm220 220h160v-160H400v160Zm0 220h160v-160H400v160ZM180-400h160v-160H180v160Zm440 0h160v-160H620v160ZM180-180h160v-160H180v160Zm440 0h160v-160H620v160Z\"/>\n",
              "  </svg>\n",
              "    </button>\n",
              "\n",
              "  <style>\n",
              "    .colab-df-container {\n",
              "      display:flex;\n",
              "      gap: 12px;\n",
              "    }\n",
              "\n",
              "    .colab-df-convert {\n",
              "      background-color: #E8F0FE;\n",
              "      border: none;\n",
              "      border-radius: 50%;\n",
              "      cursor: pointer;\n",
              "      display: none;\n",
              "      fill: #1967D2;\n",
              "      height: 32px;\n",
              "      padding: 0 0 0 0;\n",
              "      width: 32px;\n",
              "    }\n",
              "\n",
              "    .colab-df-convert:hover {\n",
              "      background-color: #E2EBFA;\n",
              "      box-shadow: 0px 1px 2px rgba(60, 64, 67, 0.3), 0px 1px 3px 1px rgba(60, 64, 67, 0.15);\n",
              "      fill: #174EA6;\n",
              "    }\n",
              "\n",
              "    .colab-df-buttons div {\n",
              "      margin-bottom: 4px;\n",
              "    }\n",
              "\n",
              "    [theme=dark] .colab-df-convert {\n",
              "      background-color: #3B4455;\n",
              "      fill: #D2E3FC;\n",
              "    }\n",
              "\n",
              "    [theme=dark] .colab-df-convert:hover {\n",
              "      background-color: #434B5C;\n",
              "      box-shadow: 0px 1px 3px 1px rgba(0, 0, 0, 0.15);\n",
              "      filter: drop-shadow(0px 1px 2px rgba(0, 0, 0, 0.3));\n",
              "      fill: #FFFFFF;\n",
              "    }\n",
              "  </style>\n",
              "\n",
              "    <script>\n",
              "      const buttonEl =\n",
              "        document.querySelector('#df-9df015f8-39a1-492f-b3a1-90923922aa83 button.colab-df-convert');\n",
              "      buttonEl.style.display =\n",
              "        google.colab.kernel.accessAllowed ? 'block' : 'none';\n",
              "\n",
              "      async function convertToInteractive(key) {\n",
              "        const element = document.querySelector('#df-9df015f8-39a1-492f-b3a1-90923922aa83');\n",
              "        const dataTable =\n",
              "          await google.colab.kernel.invokeFunction('convertToInteractive',\n",
              "                                                    [key], {});\n",
              "        if (!dataTable) return;\n",
              "\n",
              "        const docLinkHtml = 'Like what you see? Visit the ' +\n",
              "          '<a target=\"_blank\" href=https://colab.research.google.com/notebooks/data_table.ipynb>data table notebook</a>'\n",
              "          + ' to learn more about interactive tables.';\n",
              "        element.innerHTML = '';\n",
              "        dataTable['output_type'] = 'display_data';\n",
              "        await google.colab.output.renderOutput(dataTable, element);\n",
              "        const docLink = document.createElement('div');\n",
              "        docLink.innerHTML = docLinkHtml;\n",
              "        element.appendChild(docLink);\n",
              "      }\n",
              "    </script>\n",
              "  </div>\n",
              "\n",
              "\n",
              "<div id=\"df-ad8f32d3-cc92-4d27-979d-8f1479143979\">\n",
              "  <button class=\"colab-df-quickchart\" onclick=\"quickchart('df-ad8f32d3-cc92-4d27-979d-8f1479143979')\"\n",
              "            title=\"Suggest charts\"\n",
              "            style=\"display:none;\">\n",
              "\n",
              "<svg xmlns=\"http://www.w3.org/2000/svg\" height=\"24px\"viewBox=\"0 0 24 24\"\n",
              "     width=\"24px\">\n",
              "    <g>\n",
              "        <path d=\"M19 3H5c-1.1 0-2 .9-2 2v14c0 1.1.9 2 2 2h14c1.1 0 2-.9 2-2V5c0-1.1-.9-2-2-2zM9 17H7v-7h2v7zm4 0h-2V7h2v10zm4 0h-2v-4h2v4z\"/>\n",
              "    </g>\n",
              "</svg>\n",
              "  </button>\n",
              "\n",
              "<style>\n",
              "  .colab-df-quickchart {\n",
              "      --bg-color: #E8F0FE;\n",
              "      --fill-color: #1967D2;\n",
              "      --hover-bg-color: #E2EBFA;\n",
              "      --hover-fill-color: #174EA6;\n",
              "      --disabled-fill-color: #AAA;\n",
              "      --disabled-bg-color: #DDD;\n",
              "  }\n",
              "\n",
              "  [theme=dark] .colab-df-quickchart {\n",
              "      --bg-color: #3B4455;\n",
              "      --fill-color: #D2E3FC;\n",
              "      --hover-bg-color: #434B5C;\n",
              "      --hover-fill-color: #FFFFFF;\n",
              "      --disabled-bg-color: #3B4455;\n",
              "      --disabled-fill-color: #666;\n",
              "  }\n",
              "\n",
              "  .colab-df-quickchart {\n",
              "    background-color: var(--bg-color);\n",
              "    border: none;\n",
              "    border-radius: 50%;\n",
              "    cursor: pointer;\n",
              "    display: none;\n",
              "    fill: var(--fill-color);\n",
              "    height: 32px;\n",
              "    padding: 0;\n",
              "    width: 32px;\n",
              "  }\n",
              "\n",
              "  .colab-df-quickchart:hover {\n",
              "    background-color: var(--hover-bg-color);\n",
              "    box-shadow: 0 1px 2px rgba(60, 64, 67, 0.3), 0 1px 3px 1px rgba(60, 64, 67, 0.15);\n",
              "    fill: var(--button-hover-fill-color);\n",
              "  }\n",
              "\n",
              "  .colab-df-quickchart-complete:disabled,\n",
              "  .colab-df-quickchart-complete:disabled:hover {\n",
              "    background-color: var(--disabled-bg-color);\n",
              "    fill: var(--disabled-fill-color);\n",
              "    box-shadow: none;\n",
              "  }\n",
              "\n",
              "  .colab-df-spinner {\n",
              "    border: 2px solid var(--fill-color);\n",
              "    border-color: transparent;\n",
              "    border-bottom-color: var(--fill-color);\n",
              "    animation:\n",
              "      spin 1s steps(1) infinite;\n",
              "  }\n",
              "\n",
              "  @keyframes spin {\n",
              "    0% {\n",
              "      border-color: transparent;\n",
              "      border-bottom-color: var(--fill-color);\n",
              "      border-left-color: var(--fill-color);\n",
              "    }\n",
              "    20% {\n",
              "      border-color: transparent;\n",
              "      border-left-color: var(--fill-color);\n",
              "      border-top-color: var(--fill-color);\n",
              "    }\n",
              "    30% {\n",
              "      border-color: transparent;\n",
              "      border-left-color: var(--fill-color);\n",
              "      border-top-color: var(--fill-color);\n",
              "      border-right-color: var(--fill-color);\n",
              "    }\n",
              "    40% {\n",
              "      border-color: transparent;\n",
              "      border-right-color: var(--fill-color);\n",
              "      border-top-color: var(--fill-color);\n",
              "    }\n",
              "    60% {\n",
              "      border-color: transparent;\n",
              "      border-right-color: var(--fill-color);\n",
              "    }\n",
              "    80% {\n",
              "      border-color: transparent;\n",
              "      border-right-color: var(--fill-color);\n",
              "      border-bottom-color: var(--fill-color);\n",
              "    }\n",
              "    90% {\n",
              "      border-color: transparent;\n",
              "      border-bottom-color: var(--fill-color);\n",
              "    }\n",
              "  }\n",
              "</style>\n",
              "\n",
              "  <script>\n",
              "    async function quickchart(key) {\n",
              "      const quickchartButtonEl =\n",
              "        document.querySelector('#' + key + ' button');\n",
              "      quickchartButtonEl.disabled = true;  // To prevent multiple clicks.\n",
              "      quickchartButtonEl.classList.add('colab-df-spinner');\n",
              "      try {\n",
              "        const charts = await google.colab.kernel.invokeFunction(\n",
              "            'suggestCharts', [key], {});\n",
              "      } catch (error) {\n",
              "        console.error('Error during call to suggestCharts:', error);\n",
              "      }\n",
              "      quickchartButtonEl.classList.remove('colab-df-spinner');\n",
              "      quickchartButtonEl.classList.add('colab-df-quickchart-complete');\n",
              "    }\n",
              "    (() => {\n",
              "      let quickchartButtonEl =\n",
              "        document.querySelector('#df-ad8f32d3-cc92-4d27-979d-8f1479143979 button');\n",
              "      quickchartButtonEl.style.display =\n",
              "        google.colab.kernel.accessAllowed ? 'block' : 'none';\n",
              "    })();\n",
              "  </script>\n",
              "</div>\n",
              "    </div>\n",
              "  </div>\n"
            ],
            "text/plain": [
              "            recency  frequency  monetary\n",
              "CustomerID                              \n",
              "12346.0         326          1  77183.60\n",
              "12347.0         130          5   2790.86\n",
              "12348.0         249          3   1487.24\n",
              "12350.0         310          1    334.40\n",
              "12352.0         262          5   1561.81"
            ]
          },
          "execution_count": 128,
          "metadata": {},
          "output_type": "execute_result"
        }
      ],
      "source": [
        "X.head()"
      ]
    },
    {
      "cell_type": "code",
      "execution_count": null,
      "metadata": {
        "id": "uoBMVA5q6iNH"
      },
      "outputs": [],
      "source": [
        "# Preparing the pipeline\n",
        "pipeline_clf = {\n",
        "'rf': make_pipeline(RandomForestRegressor(random_state=42)),\n",
        "    'gb': make_pipeline(GradientBoostingRegressor(random_state=42)),\n",
        "    'dt': make_pipeline(DecisionTreeRegressor(random_state=42)),\n",
        "    'xgb': make_pipeline(XGBRegressor(random_state=42)),\n",
        "    'svm': make_pipeline(SVR()),\n",
        "    'knn': make_pipeline(KNeighborsRegressor())\n",
        "}"
      ]
    },
    {
      "cell_type": "code",
      "execution_count": null,
      "metadata": {
        "id": "qU1LH68q6owE"
      },
      "outputs": [],
      "source": [
        "# Preparing grid parameters\n",
        "hyperparams = {\n",
        "    'rf': {\n",
        "        'randomforestregressor__n_estimators': [100, 150, 200],\n",
        "        'randomforestregressor__max_depth': [5, 10, 15],\n",
        "        'randomforestregressor__min_samples_leaf': [1, 2, 3],\n",
        "        'randomforestregressor__min_samples_split': [2, 3, 4]\n",
        "    },\n",
        "    'gb': {\n",
        "        'gradientboostingregressor__n_estimators': [100, 150, 200],\n",
        "        'gradientboostingregressor__max_depth': [5, 10, 15],\n",
        "        'gradientboostingregressor__min_samples_leaf': [1, 2, 3],\n",
        "        'gradientboostingregressor__min_samples_split': [2, 3, 4]\n",
        "    },\n",
        "    'dt': {\n",
        "        'decisiontreeregressor__max_depth': [5, 10, 15],\n",
        "        'decisiontreeregressor__min_samples_leaf': [1, 2, 3],\n",
        "        'decisiontreeregressor__min_samples_split': [2, 3, 4]\n",
        "    },\n",
        "    'xgb': {\n",
        "        'xgbregressor__n_estimators': [100, 150, 200],\n",
        "        'xgbregressor__max_depth': [5, 10, 15],\n",
        "        'xgbregressor__min_child_weight': [1, 3, 5],\n",
        "        'xgbregressor__gamma': [0.0, 0.1, 0.2]\n",
        "    },\n",
        "    'svm': {\n",
        "        'svr__C': [0.1, 1, 10],\n",
        "        'svr__gamma': [0.001, 0.01, 0.1, 1]\n",
        "    },\n",
        "    'knn': {\n",
        "        'kneighborsregressor__n_neighbors': [3, 5, 7],\n",
        "        'kneighborsregressor__weights': ['uniform', 'distance']\n",
        "    },\n",
        "    'rfc': {\n",
        "        'randomforestclassifier__n_estimators': [100, 150, 200],\n",
        "        'randomforestclassifier__max_depth': [5, 10, 15],\n",
        "        'randomforestclassifier__min_samples_leaf': [1, 2, 3],\n",
        "        'randomforestclassifier__min_samples_split': [2, 3, 4]\n",
        "    },\n",
        "    'gbc': {\n",
        "        'gradientboostingclassifier__n_estimators': [100, 150, 200],\n",
        "        'gradientboostingclassifier__max_depth': [5, 10, 15],\n",
        "        'gradientboostingclassifier__min_samples_leaf': [1, 2, 3],\n",
        "        'gradientboostingclassifier__min_samples_split': [2, 3, 4]\n",
        "    },\n",
        "    'xgbc': {\n",
        "        'xgbclassifier__n_estimators': [100, 150, 200],\n",
        "        'xgbclassifier__max_depth': [5, 10, 15],\n",
        "        'xgbclassifier__min_child_weight': [1, 3, 5],\n",
        "        'xgbclassifier__gamma': [0.0, 0.1, 0.2]\n",
        "    }\n",
        "}"
      ]
    },
    {
      "cell_type": "code",
      "execution_count": null,
      "metadata": {
        "colab": {
          "background_save": true,
          "base_uri": "https://localhost:8080/"
        },
        "id": "azPEi6Hw6t3L",
        "outputId": "3d81e63c-4ba1-48d2-a4e7-924a399b630e"
      },
      "outputs": [
        {
          "name": "stdout",
          "output_type": "stream",
          "text": [
            "Starting training for rf.\n",
            "rf has been successfully fit.\n",
            "Starting training for gb.\n",
            "gb has been successfully fit.\n",
            "Starting training for dt.\n",
            "dt has been successfully fit.\n",
            "Starting training for xgb.\n",
            "xgb has been successfully fit.\n",
            "Starting training for svm.\n",
            "svm has been successfully fit.\n",
            "Starting training for knn.\n",
            "knn has been successfully fit.\n"
          ]
        }
      ],
      "source": [
        "fit_clf_models = {}\n",
        "for algo, pipeline in pipeline_clf.items():\n",
        "    model = GridSearchCV(pipeline, hyperparams[algo], cv=5, n_jobs=-1)\n",
        "    try:\n",
        "        print('Starting training for {}.'.format(algo))\n",
        "        model.fit(X, y_prob)\n",
        "        fit_clf_models[algo] = model\n",
        "        print('{} has been successfully fit.'.format(algo))\n",
        "    except NotFittedError as e:\n",
        "        print(repr(e))"
      ]
    },
    {
      "cell_type": "code",
      "execution_count": null,
      "metadata": {
        "colab": {
          "background_save": true
        },
        "id": "i-9VRxjaBP0B",
        "outputId": "335bf004-fae5-4804-ef13-0793760cf247"
      },
      "outputs": [
        {
          "name": "stdout",
          "output_type": "stream",
          "text": [
            "Predicted rf: [0.36156201 0.87913638 0.70384823 ... 0.44904777 0.9095891  0.57076665]\n",
            "Predicted gb: [0.00211708 0.89616816 0.80393374 ... 0.60338779 0.8263796  0.73850581]\n",
            "Predicted dt: [0.28205128 0.86147186 0.74352332 ... 0.43678161 0.97058824 0.4652568 ]\n",
            "Predicted xgb: [0.26412252 0.8638074  0.67490184 ... 0.508235   0.915562   0.7088108 ]\n",
            "Predicted svm: [0.09997856 0.90000932 0.89999604 ... 0.89997121 0.90002946 0.89996408]\n",
            "Predicted knn: [0.85714286 0.85714286 0.71428571 ... 0.57142857 0.71428571 0.85714286]\n"
          ]
        }
      ],
      "source": [
        "for algo, model in fit_clf_models.items():\n",
        "    yhat = model.predict(X)\n",
        "    print('Predicted {}:'.format(algo), yhat)"
      ]
    },
    {
      "cell_type": "code",
      "execution_count": null,
      "metadata": {
        "colab": {
          "background_save": true
        },
        "id": "dUPiDoGKAKtN",
        "outputId": "e1313e65-17a0-4eb5-b713-ee49cc2bbeaa"
      },
      "outputs": [
        {
          "name": "stdout",
          "output_type": "stream",
          "text": [
            "rf scores - accuracy: 0.3850895879250465\n",
            "gb scores - accuracy: 0.3280268970823255\n",
            "dt scores - accuracy: 0.385023386792488\n",
            "xgb scores - accuracy: 0.371598065472056\n",
            "svm scores - accuracy: 0.10000428226712703\n",
            "knn scores - accuracy: 0.3536668079694785\n"
          ]
        }
      ],
      "source": [
        "from sklearn.metrics import mean_absolute_error\n",
        "\n",
        "for algo, model in fit_clf_models.items():\n",
        "    yhat = model.predict(X)\n",
        "    print('{} scores - accuracy: {}'.format(algo, mean_absolute_error(y_prob, yhat)))"
      ]
    },
    {
      "cell_type": "code",
      "execution_count": null,
      "metadata": {
        "colab": {
          "background_save": true
        },
        "id": "IkDak2g4CZfS",
        "outputId": "78d8d8fa-55b0-46df-cc96-fd8ee1f67e0d"
      },
      "outputs": [
        {
          "data": {
            "text/plain": [
              "array([235.8847882 , 310.45288654, 259.70388654, ..., 122.99055523,\n",
              "       275.97787039, 304.61613037])"
            ]
          },
          "execution_count": 134,
          "metadata": {},
          "output_type": "execute_result"
        }
      ],
      "source": [
        "prediction_clf = fit_models['svm'].predict(X)\n",
        "prediction_clf"
      ]
    },
    {
      "cell_type": "code",
      "execution_count": null,
      "metadata": {
        "colab": {
          "background_save": true
        },
        "id": "YvgagYnqCtqq"
      },
      "outputs": [],
      "source": [
        "# Accessing an element at a specific index (e.g., index 1)\n",
        "some_element = prediction_clf[1]\n"
      ]
    },
    {
      "cell_type": "code",
      "execution_count": null,
      "metadata": {
        "colab": {
          "background_save": true
        },
        "id": "bDWncCu1Cz4j",
        "outputId": "e74fbf6d-891e-4d3c-a984-300a09930b81"
      },
      "outputs": [
        {
          "data": {
            "text/html": [
              "\n",
              "  <div id=\"df-9ee9a437-2b49-4d0b-926b-839ab2b07f93\" class=\"colab-df-container\">\n",
              "    <div>\n",
              "<style scoped>\n",
              "    .dataframe tbody tr th:only-of-type {\n",
              "        vertical-align: middle;\n",
              "    }\n",
              "\n",
              "    .dataframe tbody tr th {\n",
              "        vertical-align: top;\n",
              "    }\n",
              "\n",
              "    .dataframe thead th {\n",
              "        text-align: right;\n",
              "    }\n",
              "</style>\n",
              "<table border=\"1\" class=\"dataframe\">\n",
              "  <thead>\n",
              "    <tr style=\"text-align: right;\">\n",
              "      <th></th>\n",
              "      <th>prediction_prob</th>\n",
              "    </tr>\n",
              "  </thead>\n",
              "  <tbody>\n",
              "    <tr>\n",
              "      <th>0</th>\n",
              "      <td>235.884788</td>\n",
              "    </tr>\n",
              "    <tr>\n",
              "      <th>1</th>\n",
              "      <td>310.452887</td>\n",
              "    </tr>\n",
              "    <tr>\n",
              "      <th>2</th>\n",
              "      <td>259.703887</td>\n",
              "    </tr>\n",
              "    <tr>\n",
              "      <th>3</th>\n",
              "      <td>68.151540</td>\n",
              "    </tr>\n",
              "    <tr>\n",
              "      <th>4</th>\n",
              "      <td>259.688070</td>\n",
              "    </tr>\n",
              "  </tbody>\n",
              "</table>\n",
              "</div>\n",
              "    <div class=\"colab-df-buttons\">\n",
              "\n",
              "  <div class=\"colab-df-container\">\n",
              "    <button class=\"colab-df-convert\" onclick=\"convertToInteractive('df-9ee9a437-2b49-4d0b-926b-839ab2b07f93')\"\n",
              "            title=\"Convert this dataframe to an interactive table.\"\n",
              "            style=\"display:none;\">\n",
              "\n",
              "  <svg xmlns=\"http://www.w3.org/2000/svg\" height=\"24px\" viewBox=\"0 -960 960 960\">\n",
              "    <path d=\"M120-120v-720h720v720H120Zm60-500h600v-160H180v160Zm220 220h160v-160H400v160Zm0 220h160v-160H400v160ZM180-400h160v-160H180v160Zm440 0h160v-160H620v160ZM180-180h160v-160H180v160Zm440 0h160v-160H620v160Z\"/>\n",
              "  </svg>\n",
              "    </button>\n",
              "\n",
              "  <style>\n",
              "    .colab-df-container {\n",
              "      display:flex;\n",
              "      gap: 12px;\n",
              "    }\n",
              "\n",
              "    .colab-df-convert {\n",
              "      background-color: #E8F0FE;\n",
              "      border: none;\n",
              "      border-radius: 50%;\n",
              "      cursor: pointer;\n",
              "      display: none;\n",
              "      fill: #1967D2;\n",
              "      height: 32px;\n",
              "      padding: 0 0 0 0;\n",
              "      width: 32px;\n",
              "    }\n",
              "\n",
              "    .colab-df-convert:hover {\n",
              "      background-color: #E2EBFA;\n",
              "      box-shadow: 0px 1px 2px rgba(60, 64, 67, 0.3), 0px 1px 3px 1px rgba(60, 64, 67, 0.15);\n",
              "      fill: #174EA6;\n",
              "    }\n",
              "\n",
              "    .colab-df-buttons div {\n",
              "      margin-bottom: 4px;\n",
              "    }\n",
              "\n",
              "    [theme=dark] .colab-df-convert {\n",
              "      background-color: #3B4455;\n",
              "      fill: #D2E3FC;\n",
              "    }\n",
              "\n",
              "    [theme=dark] .colab-df-convert:hover {\n",
              "      background-color: #434B5C;\n",
              "      box-shadow: 0px 1px 3px 1px rgba(0, 0, 0, 0.15);\n",
              "      filter: drop-shadow(0px 1px 2px rgba(0, 0, 0, 0.3));\n",
              "      fill: #FFFFFF;\n",
              "    }\n",
              "  </style>\n",
              "\n",
              "    <script>\n",
              "      const buttonEl =\n",
              "        document.querySelector('#df-9ee9a437-2b49-4d0b-926b-839ab2b07f93 button.colab-df-convert');\n",
              "      buttonEl.style.display =\n",
              "        google.colab.kernel.accessAllowed ? 'block' : 'none';\n",
              "\n",
              "      async function convertToInteractive(key) {\n",
              "        const element = document.querySelector('#df-9ee9a437-2b49-4d0b-926b-839ab2b07f93');\n",
              "        const dataTable =\n",
              "          await google.colab.kernel.invokeFunction('convertToInteractive',\n",
              "                                                    [key], {});\n",
              "        if (!dataTable) return;\n",
              "\n",
              "        const docLinkHtml = 'Like what you see? Visit the ' +\n",
              "          '<a target=\"_blank\" href=https://colab.research.google.com/notebooks/data_table.ipynb>data table notebook</a>'\n",
              "          + ' to learn more about interactive tables.';\n",
              "        element.innerHTML = '';\n",
              "        dataTable['output_type'] = 'display_data';\n",
              "        await google.colab.output.renderOutput(dataTable, element);\n",
              "        const docLink = document.createElement('div');\n",
              "        docLink.innerHTML = docLinkHtml;\n",
              "        element.appendChild(docLink);\n",
              "      }\n",
              "    </script>\n",
              "  </div>\n",
              "\n",
              "\n",
              "<div id=\"df-08b96cb0-6d0e-4243-b5e6-d0abb5f7cad6\">\n",
              "  <button class=\"colab-df-quickchart\" onclick=\"quickchart('df-08b96cb0-6d0e-4243-b5e6-d0abb5f7cad6')\"\n",
              "            title=\"Suggest charts\"\n",
              "            style=\"display:none;\">\n",
              "\n",
              "<svg xmlns=\"http://www.w3.org/2000/svg\" height=\"24px\"viewBox=\"0 0 24 24\"\n",
              "     width=\"24px\">\n",
              "    <g>\n",
              "        <path d=\"M19 3H5c-1.1 0-2 .9-2 2v14c0 1.1.9 2 2 2h14c1.1 0 2-.9 2-2V5c0-1.1-.9-2-2-2zM9 17H7v-7h2v7zm4 0h-2V7h2v10zm4 0h-2v-4h2v4z\"/>\n",
              "    </g>\n",
              "</svg>\n",
              "  </button>\n",
              "\n",
              "<style>\n",
              "  .colab-df-quickchart {\n",
              "      --bg-color: #E8F0FE;\n",
              "      --fill-color: #1967D2;\n",
              "      --hover-bg-color: #E2EBFA;\n",
              "      --hover-fill-color: #174EA6;\n",
              "      --disabled-fill-color: #AAA;\n",
              "      --disabled-bg-color: #DDD;\n",
              "  }\n",
              "\n",
              "  [theme=dark] .colab-df-quickchart {\n",
              "      --bg-color: #3B4455;\n",
              "      --fill-color: #D2E3FC;\n",
              "      --hover-bg-color: #434B5C;\n",
              "      --hover-fill-color: #FFFFFF;\n",
              "      --disabled-bg-color: #3B4455;\n",
              "      --disabled-fill-color: #666;\n",
              "  }\n",
              "\n",
              "  .colab-df-quickchart {\n",
              "    background-color: var(--bg-color);\n",
              "    border: none;\n",
              "    border-radius: 50%;\n",
              "    cursor: pointer;\n",
              "    display: none;\n",
              "    fill: var(--fill-color);\n",
              "    height: 32px;\n",
              "    padding: 0;\n",
              "    width: 32px;\n",
              "  }\n",
              "\n",
              "  .colab-df-quickchart:hover {\n",
              "    background-color: var(--hover-bg-color);\n",
              "    box-shadow: 0 1px 2px rgba(60, 64, 67, 0.3), 0 1px 3px 1px rgba(60, 64, 67, 0.15);\n",
              "    fill: var(--button-hover-fill-color);\n",
              "  }\n",
              "\n",
              "  .colab-df-quickchart-complete:disabled,\n",
              "  .colab-df-quickchart-complete:disabled:hover {\n",
              "    background-color: var(--disabled-bg-color);\n",
              "    fill: var(--disabled-fill-color);\n",
              "    box-shadow: none;\n",
              "  }\n",
              "\n",
              "  .colab-df-spinner {\n",
              "    border: 2px solid var(--fill-color);\n",
              "    border-color: transparent;\n",
              "    border-bottom-color: var(--fill-color);\n",
              "    animation:\n",
              "      spin 1s steps(1) infinite;\n",
              "  }\n",
              "\n",
              "  @keyframes spin {\n",
              "    0% {\n",
              "      border-color: transparent;\n",
              "      border-bottom-color: var(--fill-color);\n",
              "      border-left-color: var(--fill-color);\n",
              "    }\n",
              "    20% {\n",
              "      border-color: transparent;\n",
              "      border-left-color: var(--fill-color);\n",
              "      border-top-color: var(--fill-color);\n",
              "    }\n",
              "    30% {\n",
              "      border-color: transparent;\n",
              "      border-left-color: var(--fill-color);\n",
              "      border-top-color: var(--fill-color);\n",
              "      border-right-color: var(--fill-color);\n",
              "    }\n",
              "    40% {\n",
              "      border-color: transparent;\n",
              "      border-right-color: var(--fill-color);\n",
              "      border-top-color: var(--fill-color);\n",
              "    }\n",
              "    60% {\n",
              "      border-color: transparent;\n",
              "      border-right-color: var(--fill-color);\n",
              "    }\n",
              "    80% {\n",
              "      border-color: transparent;\n",
              "      border-right-color: var(--fill-color);\n",
              "      border-bottom-color: var(--fill-color);\n",
              "    }\n",
              "    90% {\n",
              "      border-color: transparent;\n",
              "      border-bottom-color: var(--fill-color);\n",
              "    }\n",
              "  }\n",
              "</style>\n",
              "\n",
              "  <script>\n",
              "    async function quickchart(key) {\n",
              "      const quickchartButtonEl =\n",
              "        document.querySelector('#' + key + ' button');\n",
              "      quickchartButtonEl.disabled = true;  // To prevent multiple clicks.\n",
              "      quickchartButtonEl.classList.add('colab-df-spinner');\n",
              "      try {\n",
              "        const charts = await google.colab.kernel.invokeFunction(\n",
              "            'suggestCharts', [key], {});\n",
              "      } catch (error) {\n",
              "        console.error('Error during call to suggestCharts:', error);\n",
              "      }\n",
              "      quickchartButtonEl.classList.remove('colab-df-spinner');\n",
              "      quickchartButtonEl.classList.add('colab-df-quickchart-complete');\n",
              "    }\n",
              "    (() => {\n",
              "      let quickchartButtonEl =\n",
              "        document.querySelector('#df-08b96cb0-6d0e-4243-b5e6-d0abb5f7cad6 button');\n",
              "      quickchartButtonEl.style.display =\n",
              "        google.colab.kernel.accessAllowed ? 'block' : 'none';\n",
              "    })();\n",
              "  </script>\n",
              "</div>\n",
              "    </div>\n",
              "  </div>\n"
            ],
            "text/plain": [
              "   prediction_prob\n",
              "0       235.884788\n",
              "1       310.452887\n",
              "2       259.703887\n",
              "3        68.151540\n",
              "4       259.688070"
            ]
          },
          "execution_count": 136,
          "metadata": {},
          "output_type": "execute_result"
        }
      ],
      "source": [
        "pred_clf_df = pd.DataFrame(prediction_clf, columns=['prediction_prob'])\n",
        "pred_clf_df.head()"
      ]
    },
    {
      "cell_type": "code",
      "execution_count": null,
      "metadata": {
        "colab": {
          "background_save": true
        },
        "id": "lybqPls5C3jQ"
      },
      "outputs": [],
      "source": [
        "# Get GradientBoostingRegressor from fit_models\n",
        "gb_model = fit_models['gb'].best_estimator_.named_steps['gradientboostingregressor']"
      ]
    },
    {
      "cell_type": "code",
      "execution_count": null,
      "metadata": {
        "colab": {
          "background_save": true
        },
        "id": "HfkIWyXlDEJM"
      },
      "outputs": [],
      "source": [
        "# Get feature importance\n",
        "feature_importance = gb_model.feature_importances_"
      ]
    },
    {
      "cell_type": "code",
      "execution_count": null,
      "metadata": {
        "colab": {
          "background_save": true
        },
        "id": "K4OLbsXVDHZu"
      },
      "outputs": [],
      "source": [
        "# Create dataframe for show feature importance\n",
        "df_feature_importance = pd.DataFrame({'Feature': X.columns,\n",
        "                                      'Importance': feature_importance})"
      ]
    },
    {
      "cell_type": "code",
      "execution_count": null,
      "metadata": {
        "colab": {
          "background_save": true
        },
        "id": "Oo-ig3PeDKpA"
      },
      "outputs": [],
      "source": [
        "# Sorting feature importance\n",
        "df_feature_importance = df_feature_importance.sort_values('Importance', ascending=False)"
      ]
    },
    {
      "cell_type": "code",
      "execution_count": null,
      "metadata": {
        "colab": {
          "background_save": true
        },
        "id": "_hjAVw4nDOG4",
        "outputId": "fc49a433-16fe-4a81-cb5e-e992d3d22501"
      },
      "outputs": [
        {
          "data": {
            "image/png": "[encoded data removed]",
            "text/plain": [
              "<Figure size 640x480 with 1 Axes>"
            ]
          },
          "metadata": {},
          "output_type": "display_data"
        }
      ],
      "source": [
        "# Show feature importance as barplot\n",
        "plt.bar(df_feature_importance['Feature'], df_feature_importance['Importance'])\n",
        "plt.xlabel('Feature')\n",
        "plt.ylabel('Feature Importance')\n",
        "plt.title('GradientBoostingRegressor - Feature Importance')\n",
        "plt.xticks(rotation=45)\n",
        "plt.show()"
      ]
    },
    {
      "cell_type": "code",
      "execution_count": null,
      "metadata": {
        "colab": {
          "background_save": true
        },
        "id": "MwrvwJHvDSNv",
        "outputId": "ca8bd324-cae6-43b2-a6eb-71332aad1c43"
      },
      "outputs": [
        {
          "name": "stdout",
          "output_type": "stream",
          "text": [
            "dict_keys(['svr'])\n"
          ]
        }
      ],
      "source": [
        "# Access the best SVM model from GridSearchCV\n",
        "best_svm_model = fit_clf_models['svm'].best_estimator_\n",
        "\n",
        "# Get keys of the steps in the pipeline\n",
        "steps_keys = best_svm_model.named_steps.keys()\n",
        "print(steps_keys)\n"
      ]
    },
    {
      "cell_type": "code",
      "execution_count": null,
      "metadata": {
        "colab": {
          "background_save": true
        },
        "id": "baAIdgYjDXaq",
        "outputId": "ec28567c-c186-48d0-c5d7-64ce6dce2097"
      },
      "outputs": [
        {
          "name": "stdout",
          "output_type": "stream",
          "text": [
            "This SVM model does not have coefficients to represent feature importance.\n"
          ]
        }
      ],
      "source": [
        "# Access the best SVM model from GridSearchCV\n",
        "best_svm_model = fit_clf_models['svm'].best_estimator_.named_steps['svr']  # Replace 'svr' with the correct step name\n",
        "\n",
        "# Get feature coefficients from the trained SVM model\n",
        "if hasattr(best_svm_model, 'coef_'):\n",
        "    svm_coefficients = best_svm_model.coef_\n",
        "    # Use these coefficients as a measure of feature importance in the SVM model\n",
        "else:\n",
        "    print(\"This SVM model does not have coefficients to represent feature importance.\")\n"
      ]
    },
    {
      "cell_type": "code",
      "execution_count": null,
      "metadata": {
        "colab": {
          "background_save": true
        },
        "id": "vtiO-DvKDc6O"
      },
      "outputs": [],
      "source": [
        "# Assuming your_feature_names_here is a list of feature names and your_svm_coefficients_here are the SVM coefficients for each feature\n",
        "your_feature_names_here = ['Recency', 'Frequency', 'monetary']  # Replace with your actual feature names\n",
        "your_svm_coefficients_here = [0.25, -0.1, 0.5]  # Replace with the SVM coefficients obtained for your features\n",
        "\n",
        "# Create dataframe for feature and importances for SVM\n",
        "df_feature_importance_svm = pd.DataFrame({'Feature': your_feature_names_here,\n",
        "                                          'Importance': your_svm_coefficients_here})"
      ]
    },
    {
      "cell_type": "code",
      "execution_count": null,
      "metadata": {
        "colab": {
          "background_save": true
        },
        "id": "2-Kp2hvEDjX2"
      },
      "outputs": [],
      "source": [
        "# Sorting feature importance\n",
        "df_feature_importance = df_feature_importance.sort_values('Importance', ascending=False)"
      ]
    },
    {
      "cell_type": "code",
      "execution_count": null,
      "metadata": {
        "colab": {
          "background_save": true
        },
        "id": "t-gNvUbhDk-p",
        "outputId": "075c72f0-b6f8-4e28-9aaa-6f6440b5932c"
      },
      "outputs": [
        {
          "data": {
            "image/png": "[encoded data removed]",
            "text/plain": [
              "<Figure size 640x480 with 1 Axes>"
            ]
          },
          "metadata": {},
          "output_type": "display_data"
        }
      ],
      "source": [
        "# Assuming df_feature_importance_svm is your DataFrame containing SVM feature importances\n",
        "\n",
        "# Plotting feature importances for SVM\n",
        "plt.bar(df_feature_importance_svm['Feature'], abs(df_feature_importance_svm['Importance']))  # Using absolute values of coefficients\n",
        "plt.xlabel('Feature')\n",
        "plt.ylabel('Feature Importance')\n",
        "plt.title('SVM - Feature Importance')\n",
        "plt.xticks(rotation=45)\n",
        "plt.show()"
      ]
    }
  ],
  "metadata": {
    "accelerator": "GPU",
    "colab": {
      "provenance": [],
      "authorship_tag": "ABX9TyMo4hkUOk2x65uBcehcqVCm",
      "include_colab_link": true
    },
    "kernelspec": {
      "display_name": "Python 3",
      "name": "python3"
    },
    "language_info": {
      "name": "python"
    }
  },
  "nbformat": 4,
  "nbformat_minor": 0
}